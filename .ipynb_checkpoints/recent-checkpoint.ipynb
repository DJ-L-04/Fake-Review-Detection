{
 "cells": [
  {
   "cell_type": "code",
   "execution_count": 37,
   "id": "37a349e0",
   "metadata": {},
   "outputs": [],
   "source": [
    "from bs4 import BeautifulSoup\n",
    "import requests\n",
    "import pandas as pd"
   ]
  },
  {
   "cell_type": "code",
   "execution_count": 41,
   "id": "3ef2a1bf",
   "metadata": {},
   "outputs": [],
   "source": [
    "url='https://www.amazon.in/s?k=dress&crid=3VX3NOXBU5089&sprefix=dress%2Caps%2C242&ref=nb_sb_noss_2'"
   ]
  },
  {
   "cell_type": "code",
   "execution_count": 44,
   "id": "ed61eb93",
   "metadata": {},
   "outputs": [],
   "source": [
    "#headers for request\n",
    "header=({'User-Agent':'Mozilla/5.0 (Windows NT 10.0; Win64; x64) AppleWebKit/537.36 (KHTML, like Gecko) Chrome/128.0.0.0 Safari/537.36','Accept-Language':'en-US,en;q=0.5'})"
   ]
  },
  {
   "cell_type": "code",
   "execution_count": 45,
   "id": "5cab31d3",
   "metadata": {},
   "outputs": [
    {
     "data": {
      "text/plain": [
       "<Response [503]>"
      ]
     },
     "execution_count": 45,
     "metadata": {},
     "output_type": "execute_result"
    }
   ],
   "source": [
    "webpage=requests.get(url,headers=header)\n",
    "webpage"
   ]
  },
  {
   "cell_type": "code",
   "execution_count": 30,
   "id": "9d54731d",
   "metadata": {},
   "outputs": [
    {
     "data": {
      "text/plain": [
       "bytes"
      ]
     },
     "execution_count": 30,
     "metadata": {},
     "output_type": "execute_result"
    }
   ],
   "source": [
    "type(webpage.content)"
   ]
  },
  {
   "cell_type": "code",
   "execution_count": 31,
   "id": "6ec54f03",
   "metadata": {},
   "outputs": [],
   "source": [
    "soup=BeautifulSoup(webpage.content,'html.parser')"
   ]
  },
  {
   "cell_type": "code",
   "execution_count": 32,
   "id": "542260d8",
   "metadata": {},
   "outputs": [
    {
     "data": {
      "text/plain": [
       "<html>\n",
       "<head>\n",
       "<title>503 - Service Unavailable Error</title>\n",
       "</head>\n",
       "<body bgcolor=\"#FFFFFF\" text=\"#000000\">\n",
       "<!--\n",
       "        To discuss automated access to Amazon data please contact api-services-support@amazon.com.\n",
       "        For information about migrating to our APIs refer to our Marketplace APIs at https://developer.amazonservices.in/ref=rm_5_sv, or our Product Advertising API at https://affiliate-program.amazon.in/gp/advertising/api/detail/main.html/ref=rm_5_ac for advertising use cases.\n",
       "-->\n",
       "<center>\n",
       "<a href=\"https://www.amazon.in/ref=cs_503_logo/\">\n",
       "<img alt=\"Amazon.in\" border=\"0\" height=\"45\" src=\"https://images-eu.ssl-images-amazon.com/images/G/31/x-locale/communities/people/logo.gif\" width=\"200\"/></a>\n",
       "<p align=\"center\">\n",
       "<font face=\"Verdana,Arial,Helvetica\">\n",
       "<font color=\"#CC6600\" size=\"+2\"><b>Oops!</b></font><br/>\n",
       "<b>It's rush hour and traffic is piling up on that page. Please try again in a short while.<br/>If you were trying to place an order, it will not have been processed at this time.</b><p>\n",
       "<img alt=\"*\" border=\"0\" height=\"9\" src=\"https://images-eu.ssl-images-amazon.com/images/G/02/x-locale/common/orange-arrow.gif\" width=\"10\"/>\n",
       "<b><a href=\"https://www.amazon.in/ref=cs_503_link/\">Go to the Amazon.in home page to continue shopping</a></b>\n",
       "</p></font>\n",
       "</p></center>\n",
       "</body>\n",
       "</html>"
      ]
     },
     "execution_count": 32,
     "metadata": {},
     "output_type": "execute_result"
    }
   ],
   "source": [
    "soup"
   ]
  },
  {
   "cell_type": "code",
   "execution_count": 33,
   "id": "31885bb3",
   "metadata": {},
   "outputs": [
    {
     "data": {
      "text/plain": [
       "[]"
      ]
     },
     "execution_count": 33,
     "metadata": {},
     "output_type": "execute_result"
    }
   ],
   "source": [
    "links=soup.find_all(\"a\",attrs={'class':'a-link-normal s-underline-text s-underline-link-text s-link-style a-text-normal'})\n",
    "links"
   ]
  },
  {
   "cell_type": "code",
   "execution_count": null,
   "id": "3c150eaf",
   "metadata": {},
   "outputs": [],
   "source": []
  }
 ],
 "metadata": {
  "kernelspec": {
   "display_name": "Python 3 (ipykernel)",
   "language": "python",
   "name": "python3"
  },
  "language_info": {
   "codemirror_mode": {
    "name": "ipython",
    "version": 3
   },
   "file_extension": ".py",
   "mimetype": "text/x-python",
   "name": "python",
   "nbconvert_exporter": "python",
   "pygments_lexer": "ipython3",
   "version": "3.9.7"
  }
 },
 "nbformat": 4,
 "nbformat_minor": 5
}
